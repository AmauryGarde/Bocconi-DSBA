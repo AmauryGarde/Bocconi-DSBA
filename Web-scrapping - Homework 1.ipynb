{
 "cells": [
  {
   "cell_type": "code",
   "execution_count": 6,
   "metadata": {},
   "outputs": [],
   "source": [
    "import requests\n",
    "from bs4 import BeautifulSoup\n",
    "from selenium import webdriver \n",
    "import time\n",
    "import csv"
   ]
  },
  {
   "cell_type": "code",
   "execution_count": 22,
   "metadata": {},
   "outputs": [],
   "source": [
    "#csv file setup\n",
    "with open(\"output-file.csv\", \"w\", newline=\"\") as f:\n",
    "    writer = csv.writer(f)\n",
    "    writer.writerow([\"Album\", \"Artist\", \"Genre\"])\n",
    "\n",
    "page_count = 0\n",
    "\n",
    "while page_count < 200:\n",
    "\n",
    "    #scraping setup\n",
    "    driver = webdriver.Chrome(executable_path = r\"C:\\Users\\garde\\Desktop\\chromedriver.exe\")\n",
    "    url = \"https://bandcamp.com/?g=all&s=top&p=\" + str(page_count)\n",
    "    driver.get(url)\n",
    "    content = driver.page_source\n",
    "    soup = BeautifulSoup(content, \"lxml\")\n",
    "    information = soup.find_all(\"div\", class_=\"col col-3-12 discover-item\")\n",
    "\n",
    "    #retrieving data\n",
    "    for music in information:\n",
    "        music_info = music.get_text()\n",
    "        music_album = music_info.splitlines()[9]\n",
    "        music_artist = music_info.splitlines()[10]\n",
    "        music_genre = music_info.splitlines()[11]\n",
    "        \n",
    "        #storing data\n",
    "        with open(\"output-file.csv\", \"a\", newline=\"\", encoding=\"utf-32\") as f:\n",
    "            writer = csv.writer(f)\n",
    "            writer.writerow([music_album, music_artist, music_genre])\n",
    "            \n",
    "    #iteration\n",
    "    driver.close()\n",
    "    page_count += 1\n",
    "    \n",
    "    \n",
    "    \n"
   ]
  }
 ],
 "metadata": {
  "kernelspec": {
   "display_name": "Python 3",
   "language": "python",
   "name": "python3"
  },
  "language_info": {
   "codemirror_mode": {
    "name": "ipython",
    "version": 3
   },
   "file_extension": ".py",
   "mimetype": "text/x-python",
   "name": "python",
   "nbconvert_exporter": "python",
   "pygments_lexer": "ipython3",
   "version": "3.7.1"
  }
 },
 "nbformat": 4,
 "nbformat_minor": 2
}
