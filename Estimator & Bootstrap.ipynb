{
 "cells": [
  {
   "cell_type": "markdown",
   "metadata": {},
   "source": [
    "# Exercise 1"
   ]
  },
  {
   "cell_type": "markdown",
   "metadata": {},
   "source": [
    "1) The bigcity.csv dataset contains the population of 49 American cities in 1920 (u) and in 1930 (x). Let’s assume that cities are a random sample and that we are observing the couple (U, X), the parameter that we want to estimate is theta = E(X)/E(U), where E(.) is the expected value operator."
   ]
  },
  {
   "cell_type": "code",
   "execution_count": 1,
   "metadata": {},
   "outputs": [],
   "source": [
    "import scipy.stats as stats\n",
    "import matplotlib.pyplot as plt\n",
    "import pandas as pd\n",
    "import numpy as np"
   ]
  },
  {
   "cell_type": "code",
   "execution_count": 3,
   "metadata": {},
   "outputs": [
    {
     "data": {
      "text/html": [
       "<div>\n",
       "<style scoped>\n",
       "    .dataframe tbody tr th:only-of-type {\n",
       "        vertical-align: middle;\n",
       "    }\n",
       "\n",
       "    .dataframe tbody tr th {\n",
       "        vertical-align: top;\n",
       "    }\n",
       "\n",
       "    .dataframe thead th {\n",
       "        text-align: right;\n",
       "    }\n",
       "</style>\n",
       "<table border=\"1\" class=\"dataframe\">\n",
       "  <thead>\n",
       "    <tr style=\"text-align: right;\">\n",
       "      <th></th>\n",
       "      <th>u</th>\n",
       "      <th>x</th>\n",
       "    </tr>\n",
       "  </thead>\n",
       "  <tbody>\n",
       "    <tr>\n",
       "      <th>1</th>\n",
       "      <td>138</td>\n",
       "      <td>143</td>\n",
       "    </tr>\n",
       "    <tr>\n",
       "      <th>2</th>\n",
       "      <td>93</td>\n",
       "      <td>104</td>\n",
       "    </tr>\n",
       "    <tr>\n",
       "      <th>3</th>\n",
       "      <td>61</td>\n",
       "      <td>69</td>\n",
       "    </tr>\n",
       "    <tr>\n",
       "      <th>4</th>\n",
       "      <td>179</td>\n",
       "      <td>260</td>\n",
       "    </tr>\n",
       "    <tr>\n",
       "      <th>5</th>\n",
       "      <td>48</td>\n",
       "      <td>75</td>\n",
       "    </tr>\n",
       "  </tbody>\n",
       "</table>\n",
       "</div>"
      ],
      "text/plain": [
       "     u    x\n",
       "1  138  143\n",
       "2   93  104\n",
       "3   61   69\n",
       "4  179  260\n",
       "5   48   75"
      ]
     },
     "execution_count": 3,
     "metadata": {},
     "output_type": "execute_result"
    }
   ],
   "source": [
    "address = r\"C:\\Users\\garde\\Desktop\\Github\\data\\bigcity.csv\"\n",
    "bigcity = pd.read_csv(address, index_col=0)\n",
    "bigcity.head()"
   ]
  },
  {
   "cell_type": "markdown",
   "metadata": {},
   "source": [
    "1.1) Propose an estimator for theta"
   ]
  },
  {
   "cell_type": "code",
   "execution_count": 4,
   "metadata": {},
   "outputs": [
    {
     "name": "stdout",
     "output_type": "stream",
     "text": [
      "1.2390185991294025\n"
     ]
    }
   ],
   "source": [
    "# we have x/u for all observations -> let's use the sample mean as an estimator\n",
    "# Sample: mean(x)/mean(u) -> Population: E(x)/E(u)\n",
    "# Beware: theta = E(x)/E(u) != E(x/u)\n",
    "\n",
    "theta_sample_avg = bigcity[\"x\"].mean() / bigcity[\"u\"].mean()\n",
    "print(theta_sample_avg)"
   ]
  },
  {
   "cell_type": "markdown",
   "metadata": {},
   "source": [
    "1.2) Estimate with the bootstrap the bias and the standard error of the estimate of the previous point"
   ]
  },
  {
   "cell_type": "code",
   "execution_count": 5,
   "metadata": {},
   "outputs": [
    {
     "name": "stdout",
     "output_type": "stream",
     "text": [
      "Bias = -0.02577\n",
      "Stdv = 0.25312\n"
     ]
    }
   ],
   "source": [
    "# draw with reposition: n columns of 49 replications (draws with repos) for x and u\n",
    "n1 = 10**6\n",
    "x_rep = np.random.choice(bigcity[\"x\"], size=49*n1).reshape(49,n1).mean(axis=0)\n",
    "u_rep = np.random.choice(bigcity[\"u\"], size=49*n1).reshape(49,n1).mean(axis=0)\n",
    "xu_boot = x_rep/u_rep\n",
    "\n",
    "theta_boot_avg = xu_boot.mean()\n",
    "theta_boot_std = np.std(xu_boot,ddof=1) # you lose 1 dof for sample mean\n",
    "\n",
    "print(\"Bias = {:.5f}\\nStdv = {:.5f}\".format(theta_sample_avg - theta_boot_avg, theta_boot_std))"
   ]
  },
  {
   "cell_type": "markdown",
   "metadata": {},
   "source": [
    "1.3) Get a bootstrap confidence interval for theta, 0.90 confidence level"
   ]
  },
  {
   "cell_type": "code",
   "execution_count": 6,
   "metadata": {},
   "outputs": [
    {
     "name": "stdout",
     "output_type": "stream",
     "text": [
      "Confidence Interval 90%: [0.89708,1.71956]\n"
     ]
    }
   ],
   "source": [
    "# choose the confidence interval with perc\n",
    "perc = .90\n",
    "\n",
    "lower_band = (1-perc)/2*100\n",
    "higher_band = 100-lower_band\n",
    "\n",
    "lower_band = np.percentile(xu_boot,lower_band)\n",
    "higher_band = np.percentile(xu_boot,higher_band)\n",
    "\n",
    "print(\"Confidence Interval {:.0%}: [{:.5f},{:.5f}]\".format(perc,lower_band,higher_band))"
   ]
  },
  {
   "cell_type": "markdown",
   "metadata": {},
   "source": [
    "## 2) Consider the Weibull distribution."
   ]
  },
  {
   "cell_type": "markdown",
   "metadata": {},
   "source": [
    "2.1) Use the Inverse Transform Method to generate pseudo-random values from this distribution,\n",
    "given alpha and mu."
   ]
  },
  {
   "cell_type": "code",
   "execution_count": 7,
   "metadata": {},
   "outputs": [],
   "source": [
    "#inverse weibull function\n",
    "def inverseWeibull(n, mu, alpha): \n",
    "    u = stats.uniform.rvs(size = n, loc = 0, scale = 1)\n",
    "    y = 1 - np.exp(- (u / mu) ** alpha)\n",
    "    x = mu * (- np.log(1 - y)) ** (1 / alpha)\n",
    "    return x\n",
    "\n",
    "#setting up mu, alpha & size\n",
    "mu = 8\n",
    "alpha = 4\n",
    "n = 10**4\n",
    "\n",
    "#collecting values\n",
    "pseudo_rand_values = []\n",
    "pseudo_rand_values.append(inverseWeibull(n, mu, alpha))"
   ]
  },
  {
   "cell_type": "markdown",
   "metadata": {},
   "source": [
    "2.2) Plot the results, comparing them with the theoretical distribution of a Weibull"
   ]
  },
  {
   "cell_type": "code",
   "execution_count": 8,
   "metadata": {},
   "outputs": [
    {
     "data": {
      "text/plain": [
       "(array([ 974.,  965., 1013.,  976., 1047., 1005., 1019., 1002., 1045.,\n",
       "         954.]),\n",
       " array([0.        , 0.09999349, 0.19998697, 0.29998046, 0.39997394,\n",
       "        0.49996743, 0.59996092, 0.6999544 , 0.79994789, 0.89994138,\n",
       "        0.99993486]),\n",
       " <a list of 10 Patch objects>)"
      ]
     },
     "execution_count": 8,
     "metadata": {},
     "output_type": "execute_result"
    },
    {
     "data": {
      "image/png": "[encoded data removed]",
      "text/plain": [
       "<Figure size 432x288 with 1 Axes>"
      ]
     },
     "metadata": {
      "needs_background": "light"
     },
     "output_type": "display_data"
    }
   ],
   "source": [
    "#plot the results\n",
    "plt.hist(pseudo_rand_values)"
   ]
  },
  {
   "cell_type": "markdown",
   "metadata": {},
   "source": [
    "# Exercise 3"
   ]
  },
  {
   "cell_type": "markdown",
   "metadata": {},
   "source": [
    "3) Using what already did during the Lecture 6, generalize the EM algorithm in order to estimate also the standard deviations of the two Normal densities of the mixture."
   ]
  },
  {
   "cell_type": "code",
   "execution_count": 9,
   "metadata": {},
   "outputs": [
    {
     "data": {
      "text/plain": [
       "[<matplotlib.lines.Line2D at 0x18b81298a58>]"
      ]
     },
     "execution_count": 9,
     "metadata": {},
     "output_type": "execute_result"
    },
    {
     "data": {
      "image/png": "[encoded data removed]",
      "text/plain": [
       "<Figure size 432x288 with 1 Axes>"
      ]
     },
     "metadata": {
      "needs_background": "light"
     },
     "output_type": "display_data"
    }
   ],
   "source": [
    "# Generate data \n",
    "n3 = 10**5\n",
    "share1 = 0.3\n",
    "stdev = 0.1\n",
    "\n",
    "sample1 = np.random.normal(0, stdev, size = int(n3*share1))\n",
    "sample2 = np.random.normal(3, stdev, size = int(n3*(1-share1)))\n",
    "sample = np.concatenate([sample1, sample2])\n",
    "\n",
    "hist, bin_edges = np.histogram(sample, bins=100)\n",
    "plt.plot(hist)"
   ]
  },
  {
   "cell_type": "code",
   "execution_count": 10,
   "metadata": {},
   "outputs": [
    {
     "name": "stdout",
     "output_type": "stream",
     "text": [
      "Std1 = 0.10025\n",
      "Std2 = 0.09971\n",
      "\n",
      "mu1 = 0.00033\n",
      "mu2 = 2.99993\n",
      "pi_1 = 0.30000\n",
      "pi_2 = 0.85081\n"
     ]
    },
    {
     "data": {
      "image/png": "[encoded data removed]",
      "text/plain": [
       "<Figure size 432x288 with 1 Axes>"
      ]
     },
     "metadata": {
      "needs_background": "light"
     },
     "output_type": "display_data"
    }
   ],
   "source": [
    "# initial setting\n",
    "mu1, mu2, pi_1, p_2 = np.array([-1, 1, 0.5, 0.5])\n",
    "params = np.array([-1, 1, 0.5, 0.5])\n",
    "\n",
    "plabel1 = np.zeros(sample.shape)\n",
    "plabel2 = np.zeros(sample.shape)\n",
    "tol = 0.1\n",
    "\n",
    "# maxium iterations = 100\n",
    "for i in range(100):\n",
    "    \n",
    "    # Expectation step \n",
    "    cdf1 = stats.norm(mu1,0.1).pdf(sample)\n",
    "    cdf2 = stats.norm(mu2,0.1).pdf(sample)\n",
    "    \n",
    "    # Why here? / what should be the final value (0.7 or 0.85)?\n",
    "    pi_2 = 1 - pi_1\n",
    "    \n",
    "    # Why label?\n",
    "    plabel1 = cdf1 * pi_1 / (cdf1 * pi_1 + cdf2 * pi_2)\n",
    "    plabel2 = cdf2 * pi_2 / (cdf1 * pi_1 + cdf2 * pi_2)\n",
    "    \n",
    "    # updating parameters \n",
    "    mu1 = sum(sample * plabel1)/sum(plabel1)\n",
    "    mu2 = sum(sample * plabel2)/sum(plabel2)\n",
    "    pi_1 = sum(plabel1)/len(sample)\n",
    "    if (params - np.array([mu1, mu2, pi_1, pi_2])).max() < tol: break\n",
    "    params = np.array([mu1, mu2, pi_1, pi_2])\n",
    "\n",
    "# Standard Deviations\n",
    "std_dev1 = np.std(sample1,ddof=1)\n",
    "std_dev2 = np.std(sample2,ddof=1)\n",
    "print(\"Std1 = {:.5f}\\nStd2 = {:.5f}\\n\".format(std_dev1, std_dev2))\n",
    "\n",
    "# Final Parameters\n",
    "params = np.array([mu1, mu2, pi_1, pi_2])\n",
    "print(\"mu1 = {:.5f}\\nmu2 = {:.5f}\\npi_1 = {:.5f}\\npi_2 = {:.5f}\".format(mu1, mu2, pi_1, pi_2))\n",
    "\n",
    "# histogram\n",
    "plt.hist(sample, bins = 100, density = True)\n",
    "x = np.linspace(sample.min(), sample.max(), 100)\n",
    "plt.plot(x, stats.norm.pdf(x, mu1, std_dev1))\n",
    "plt.plot(x, stats.norm.pdf(x, mu2, std_dev2))\n",
    "plt.show()"
   ]
  },
  {
   "cell_type": "markdown",
   "metadata": {},
   "source": [
    "# 4) Exercise 4"
   ]
  },
  {
   "cell_type": "markdown",
   "metadata": {},
   "source": [
    "4.1) Consider the distribution of X. Implement a function to compute f(x, delta) and plot it with delta = 1.5."
   ]
  },
  {
   "cell_type": "code",
   "execution_count": 11,
   "metadata": {},
   "outputs": [],
   "source": [
    "def pdf_x(x,d):\n",
    "    \n",
    "    # vectorized x distribution giver\n",
    "    solution = d / (x*np.sqrt(2*np.pi)) * np.cosh(d*np.log(2*x)) * np.exp(-np.sinh(d*np.log(2*x))**2/2)\n",
    "    \n",
    "    # x<0 -> nan: cdf(x<0) -> 0\n",
    "    # infinite is replaced by largest number available\n",
    "    \n",
    "    return np.nan_to_num(solution)"
   ]
  },
  {
   "cell_type": "code",
   "execution_count": 12,
   "metadata": {},
   "outputs": [
    {
     "name": "stderr",
     "output_type": "stream",
     "text": [
      "C:\\Users\\garde\\Anaconda3\\lib\\site-packages\\ipykernel_launcher.py:4: RuntimeWarning: divide by zero encountered in true_divide\n",
      "  after removing the cwd from sys.path.\n",
      "C:\\Users\\garde\\Anaconda3\\lib\\site-packages\\ipykernel_launcher.py:4: RuntimeWarning: divide by zero encountered in log\n",
      "  after removing the cwd from sys.path.\n",
      "C:\\Users\\garde\\Anaconda3\\lib\\site-packages\\ipykernel_launcher.py:4: RuntimeWarning: invalid value encountered in cosh\n",
      "  after removing the cwd from sys.path.\n",
      "C:\\Users\\garde\\Anaconda3\\lib\\site-packages\\ipykernel_launcher.py:4: RuntimeWarning: invalid value encountered in sinh\n",
      "  after removing the cwd from sys.path.\n",
      "C:\\Users\\garde\\Anaconda3\\lib\\site-packages\\ipykernel_launcher.py:4: RuntimeWarning: invalid value encountered in multiply\n",
      "  after removing the cwd from sys.path.\n"
     ]
    },
    {
     "data": {
      "image/png": "[encoded data removed]",
      "text/plain": [
       "<Figure size 432x288 with 1 Axes>"
      ]
     },
     "metadata": {
      "needs_background": "light"
     },
     "output_type": "display_data"
    }
   ],
   "source": [
    "# values\n",
    "n4 = 10**6\n",
    "d = 1.5\n",
    "x = np.linspace(0, 5, n4)\n",
    "y_x = pdf_x(x,d)\n",
    "\n",
    "# figure1: plot of the cdf\n",
    "fig1 = plt.figure()\n",
    "ax = fig1.add_subplot(111)\n",
    "line1 = ax.plot(x, y_x)\n",
    "plt.show()"
   ]
  },
  {
   "cell_type": "markdown",
   "metadata": {},
   "source": [
    "4.2) Implement a function to simulate from X using the Acceptance Rejection sampling, using an Exponential distribution (with lambda = 1) as proposal."
   ]
  },
  {
   "cell_type": "code",
   "execution_count": 13,
   "metadata": {},
   "outputs": [
    {
     "name": "stdout",
     "output_type": "stream",
     "text": [
      "Acceptance: 65%\n"
     ]
    }
   ],
   "source": [
    "def p(x,l):\n",
    "    \n",
    "    #envelope\n",
    "    return l*np.exp(-l*x)\n",
    "\n",
    "def q(x,d):\n",
    "    \n",
    "    #target\n",
    "    return pdf_x(x,d)\n",
    "\n",
    "def accRejSampling(l=1,d=1.5,n=1000):\n",
    "    \n",
    "    y = np.random.exponential(scale=1, size=n)\n",
    "    u = np.random.uniform(0, 1, size=n)\n",
    "\n",
    "    # fix this alpha\n",
    "    alpha = 1 / (q(y,d)/p(y,l)).max()\n",
    "    ratio = alpha * q(y,d) / p(y,l)\n",
    "\n",
    "    return y[u < ratio]\n",
    " \n",
    "# Simulation\n",
    "n5 = 10000\n",
    "sample4 = accRejSampling(1.5, 1, n5)\n",
    "print(\"Acceptance: {:.0%}\".format(sample4.size/n5))"
   ]
  },
  {
   "cell_type": "markdown",
   "metadata": {},
   "source": [
    "4.3) Generate a sample using your function and, with these data, estimate E(X^2). Using the\n",
    "bootstrap, give a measure of precision of your estimate."
   ]
  },
  {
   "cell_type": "code",
   "execution_count": 14,
   "metadata": {},
   "outputs": [
    {
     "name": "stdout",
     "output_type": "stream",
     "text": [
      "E(X**2) = 1.12907\n"
     ]
    }
   ],
   "source": [
    "# E(X^2) estimation\n",
    "sample4_squared = sample4**2\n",
    "print(\"E(X**2) = {:.5f}\".format(sample4_squared.mean()))"
   ]
  },
  {
   "cell_type": "code",
   "execution_count": 15,
   "metadata": {},
   "outputs": [
    {
     "name": "stdout",
     "output_type": "stream",
     "text": [
      "Bias = 0.00000\n",
      "Stdv = 0.02058\n"
     ]
    }
   ],
   "source": [
    "# Measure of precision -> Bootstrap\n",
    "# draw with reposition: n columns of len(sample_squared) replications (draws with repos) for x and u\n",
    "n6 = len(sample4_squared)\n",
    "n7 = 10**4\n",
    "x2_boot = np.random.choice(sample4_squared, size=n6*n7).reshape(n6,n7).mean(axis=0)\n",
    "\n",
    "x2_boot_avg = x2_boot.mean()\n",
    "x2_boot_std = np.std(x2_boot,ddof=1) # you lose 1 dof for sample mean\n",
    "\n",
    "print(\"Bias = {:.5f}\\nStdv = {:.5f}\".format(x2_boot_avg - x2_boot_avg,x2_boot_std))"
   ]
  },
  {
   "cell_type": "code",
   "execution_count": null,
   "metadata": {},
   "outputs": [],
   "source": []
  },
  {
   "cell_type": "code",
   "execution_count": null,
   "metadata": {},
   "outputs": [],
   "source": []
  },
  {
   "cell_type": "code",
   "execution_count": null,
   "metadata": {},
   "outputs": [],
   "source": []
  }
 ],
 "metadata": {
  "kernelspec": {
   "display_name": "Python 3",
   "language": "python",
   "name": "python3"
  },
  "language_info": {
   "codemirror_mode": {
    "name": "ipython",
    "version": 3
   },
   "file_extension": ".py",
   "mimetype": "text/x-python",
   "name": "python",
   "nbconvert_exporter": "python",
   "pygments_lexer": "ipython3",
   "version": "3.7.1"
  }
 },
 "nbformat": 4,
 "nbformat_minor": 2
}
